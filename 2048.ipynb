{
 "cells": [
  {
   "cell_type": "markdown",
   "metadata": {},
   "source": [
    "# 2048\n",
    "A python 2048 game built using the pygamge module."
   ]
  },
  {
   "cell_type": "markdown",
   "metadata": {},
   "source": [
    "### Step 1\n",
    "Install the pygame module using pip."
   ]
  },
  {
   "cell_type": "code",
   "execution_count": 10,
   "metadata": {},
   "outputs": [
    {
     "name": "stdout",
     "output_type": "stream",
     "text": [
      "Requirement already satisfied: pygame in c:\\users\\essey.laptop-3g3bsapg\\appdata\\local\\packages\\pythonsoftwarefoundation.python.3.11_qbz5n2kfra8p0\\localcache\\local-packages\\python311\\site-packages (2.5.1)\n"
     ]
    }
   ],
   "source": [
    "!pip install pygame"
   ]
  },
  {
   "cell_type": "markdown",
   "metadata": {},
   "source": [
    "### Step 2\n",
    "Import the pygame and ransom "
   ]
  },
  {
   "cell_type": "code",
   "execution_count": 11,
   "metadata": {},
   "outputs": [],
   "source": [
    "import pygame as pg\n",
    "import random as rnd"
   ]
  },
  {
   "cell_type": "markdown",
   "metadata": {},
   "source": [
    "### Step 3\n",
    "Initialize pygame and define variables."
   ]
  },
  {
   "cell_type": "code",
   "execution_count": 12,
   "metadata": {},
   "outputs": [],
   "source": [
    "pg.init()\n",
    "\n",
    "# initial set up\n",
    "timer = pg.time.Clock()\n",
    "fps = 60\n",
    "font = pg.font.Font('freesansbold.ttf', 24)\n",
    "\n",
    "# 2048 game color library\n",
    "colors = {0: (204, 192, 179),\n",
    "          2: (238, 228, 218),\n",
    "          4: (237, 224, 200),\n",
    "          8: (242, 177, 121),\n",
    "          16: (245, 149, 99),\n",
    "          32: (246, 124, 95),\n",
    "          64: (246, 94, 59),\n",
    "          128: (237, 207, 114),\n",
    "          256: (237, 204, 97),\n",
    "          512: (237, 200, 80),\n",
    "          1024: (237, 197, 63),\n",
    "          2048: (237, 194, 46),\n",
    "          'light text': (249, 246, 242),\n",
    "          'dark text': (119, 110, 101),\n",
    "          'other': (0, 0, 0),\n",
    "          'bg': (187, 173, 160)}\n",
    "\n",
    "# initialize variables\n",
    "board_values = [[0 for _ in range(4)] for _ in range(4)]\n",
    "game_over = False\n",
    "insert_new = True\n",
    "init_count = 0\n",
    "direction = ''\n",
    "score = 0\n",
    "file = open('high_score', 'r')\n",
    "init_high = int(file.readline())\n",
    "file.close()\n",
    "high_score = init_high\n",
    "\n"
   ]
  },
  {
   "cell_type": "markdown",
   "metadata": {},
   "source": [
    "### Step 4\n",
    "Draw the board."
   ]
  },
  {
   "cell_type": "code",
   "execution_count": 13,
   "metadata": {},
   "outputs": [],
   "source": [
    "# draw background for the board\n",
    "def draw_board():\n",
    "    pg.draw.rect(screen, colors['bg'], [0, 0, 400, 400], 0, 10)\n",
    "    score_text = font.render(f'Score: {score}', True, 'black')\n",
    "    high_score_text = font.render(f'High Score: {high_score}', True, 'black')\n",
    "    screen.blit(score_text, (10, 410))\n",
    "    screen.blit(high_score_text, (10, 450))\n",
    "    pass"
   ]
  },
  {
   "cell_type": "markdown",
   "metadata": {},
   "source": [
    "### Step 5\n"
   ]
  },
  {
   "cell_type": "code",
   "execution_count": 14,
   "metadata": {},
   "outputs": [],
   "source": [
    "# draw tiles for game\n",
    "def draw_pieces(board):\n",
    "    for i in range(4):\n",
    "        for j in range(4):\n",
    "            value = board[i][j]\n",
    "            if value > 8:\n",
    "                value_color = colors['light text']\n",
    "            else:\n",
    "                value_color = colors['dark text']\n",
    "            if value <= 2048:\n",
    "                color = colors[value]\n",
    "            else:\n",
    "                color = colors['other']\n",
    "            pg.draw.rect(screen, color, [j * 95 + 20, i * 95 + 20, 75, 75], 0, 5)\n",
    "            if value > 0:\n",
    "                value_len = len(str(value))\n",
    "                font = pg.font.Font('freesansbold.ttf', 48 - (5 * value_len))\n",
    "                value_text = font.render(str(value), True, value_color)\n",
    "                text_rect = value_text.get_rect(center=(j * 95 + 57, i * 95 + 57))\n",
    "                screen.blit(value_text, text_rect)\n",
    "                # pg.draw.rect(screen, 'black', [j * 95 + 20, i * 95 + 20, 75, 75], 2, 5)\n"
   ]
  },
  {
   "cell_type": "markdown",
   "metadata": {},
   "source": [
    "### Step 6"
   ]
  },
  {
   "cell_type": "code",
   "execution_count": 15,
   "metadata": {},
   "outputs": [],
   "source": [
    "# insert in new pieces rndly when turns start\n",
    "def new_pieces(board):\n",
    "    count = 0\n",
    "    full = False\n",
    "    while any(0 in row for row in board) and count < 1:\n",
    "        row = rnd.randint(0, 3)\n",
    "        col = rnd.randint(0, 3)\n",
    "        if board[row][col] == 0:\n",
    "            count += 1\n",
    "            if rnd.randint(1, 10) == 10:\n",
    "                board[row][col] = 4\n",
    "            else:\n",
    "                board[row][col] = 2\n",
    "    if count < 1:\n",
    "        full = True\n",
    "    return board, full"
   ]
  },
  {
   "cell_type": "markdown",
   "metadata": {},
   "source": [
    "### Step 7"
   ]
  },
  {
   "cell_type": "code",
   "execution_count": 16,
   "metadata": {},
   "outputs": [],
   "source": [
    "# draw game over and restart text\n",
    "def draw_over():\n",
    "    pg.draw.rect(screen, 'black', [50, 50, 300, 100], 0, 10)\n",
    "    game_over_text1 = font.render('Game Over!', True, 'white')\n",
    "    game_over_text2 = font.render('Press Enter to Restart', True, 'white')\n",
    "    screen.blit(game_over_text1, (130, 65))\n",
    "    screen.blit(game_over_text2, (70, 105))"
   ]
  },
  {
   "cell_type": "markdown",
   "metadata": {},
   "source": [
    "### Step 8\n"
   ]
  },
  {
   "cell_type": "code",
   "execution_count": 17,
   "metadata": {},
   "outputs": [],
   "source": [
    "# take your turn based on direction\n",
    "def take_turn(direc, board):\n",
    "    global score\n",
    "    merged = [[False for _ in range(4)] for _ in range(4)]\n",
    "    if direc == 'UP':\n",
    "        for i in range(4):\n",
    "            for j in range(4):\n",
    "                shift = 0\n",
    "                if i > 0:\n",
    "                    for q in range(i):\n",
    "                        if board[q][j] == 0:\n",
    "                            shift += 1\n",
    "                    if shift > 0:\n",
    "                        board[i - shift][j] = board[i][j]\n",
    "                        board[i][j] = 0\n",
    "                    if board[i - shift - 1][j] == board[i - shift][j] and not merged[i - shift][j] \\\n",
    "                            and not merged[i - shift - 1][j]:\n",
    "                        board[i - shift - 1][j] *= 2\n",
    "                        score += board[i - shift - 1][j]\n",
    "                        board[i - shift][j] = 0\n",
    "                        merged[i - shift - 1][j] = True\n",
    "\n",
    "    elif direc == 'DOWN':\n",
    "        for i in range(3):\n",
    "            for j in range(4):\n",
    "                shift = 0\n",
    "                for q in range(i + 1):\n",
    "                    if board[3 - q][j] == 0:\n",
    "                        shift += 1\n",
    "                if shift > 0:\n",
    "                    board[2 - i + shift][j] = board[2 - i][j]\n",
    "                    board[2 - i][j] = 0\n",
    "                if 3 - i + shift <= 3:\n",
    "                    if board[2 - i + shift][j] == board[3 - i + shift][j] and not merged[3 - i + shift][j] \\\n",
    "                            and not merged[2 - i + shift][j]:\n",
    "                        board[3 - i + shift][j] *= 2\n",
    "                        score += board[3 - i + shift][j]\n",
    "                        board[2 - i + shift][j] = 0\n",
    "                        merged[3 - i + shift][j] = True\n",
    "\n",
    "    elif direc == 'LEFT':\n",
    "        for i in range(4):\n",
    "            for j in range(4):\n",
    "                shift = 0\n",
    "                for q in range(j):\n",
    "                    if board[i][q] == 0:\n",
    "                        shift += 1\n",
    "                if shift > 0:\n",
    "                    board[i][j - shift] = board[i][j]\n",
    "                    board[i][j] = 0\n",
    "                if board[i][j - shift] == board[i][j - shift - 1] and not merged[i][j - shift - 1] \\\n",
    "                        and not merged[i][j - shift]:\n",
    "                    board[i][j - shift - 1] *= 2\n",
    "                    score += board[i][j - shift - 1]\n",
    "                    board[i][j - shift] = 0\n",
    "                    merged[i][j - shift - 1] = True\n",
    "\n",
    "    elif direc == 'RIGHT':\n",
    "        for i in range(4):\n",
    "            for j in range(4):\n",
    "                shift = 0\n",
    "                for q in range(j):\n",
    "                    if board[i][3 - q] == 0:\n",
    "                        shift += 1\n",
    "                if shift > 0:\n",
    "                    board[i][3 - j + shift] = board[i][3 - j]\n",
    "                    board[i][3 - j] = 0\n",
    "                if 4 - j + shift <= 3:\n",
    "                    if board[i][4 - j + shift] == board[i][3 - j + shift] and not merged[i][4 - j + shift] \\\n",
    "                            and not merged[i][3 - j + shift]:\n",
    "                        board[i][4 - j + shift] *= 2\n",
    "                        score += board[i][4 - j + shift]\n",
    "                        board[i][3 - j + shift] = 0\n",
    "                        merged[i][4 - j + shift] = True\n",
    "    return board\n"
   ]
  },
  {
   "cell_type": "markdown",
   "metadata": {},
   "source": [
    "### Step 9\n"
   ]
  },
  {
   "cell_type": "code",
   "execution_count": 18,
   "metadata": {},
   "outputs": [
    {
     "ename": "IndexError",
     "evalue": "list index out of range",
     "output_type": "error",
     "traceback": [
      "\u001b[1;31m---------------------------------------------------------------------------\u001b[0m",
      "\u001b[1;31mIndexError\u001b[0m                                Traceback (most recent call last)",
      "Cell \u001b[1;32mIn[18], line 17\u001b[0m\n\u001b[0;32m     15\u001b[0m     init_count \u001b[38;5;241m+\u001b[39m\u001b[38;5;241m=\u001b[39m \u001b[38;5;241m1\u001b[39m\n\u001b[0;32m     16\u001b[0m \u001b[38;5;28;01mif\u001b[39;00m direction \u001b[38;5;241m!=\u001b[39m \u001b[38;5;124m'\u001b[39m\u001b[38;5;124m'\u001b[39m:\n\u001b[1;32m---> 17\u001b[0m     board_values \u001b[38;5;241m=\u001b[39m \u001b[43mtake_turn\u001b[49m\u001b[43m(\u001b[49m\u001b[43mdirection\u001b[49m\u001b[43m,\u001b[49m\u001b[43m \u001b[49m\u001b[43mboard_values\u001b[49m\u001b[43m)\u001b[49m\n\u001b[0;32m     18\u001b[0m     direction \u001b[38;5;241m=\u001b[39m \u001b[38;5;124m'\u001b[39m\u001b[38;5;124m'\u001b[39m\n\u001b[0;32m     19\u001b[0m     insert_new \u001b[38;5;241m=\u001b[39m \u001b[38;5;28;01mTrue\u001b[39;00m\n",
      "Cell \u001b[1;32mIn[17], line 14\u001b[0m, in \u001b[0;36mtake_turn\u001b[1;34m(direc, board)\u001b[0m\n\u001b[0;32m     12\u001b[0m         shift \u001b[38;5;241m+\u001b[39m\u001b[38;5;241m=\u001b[39m \u001b[38;5;241m1\u001b[39m\n\u001b[0;32m     13\u001b[0m \u001b[38;5;28;01mif\u001b[39;00m shift \u001b[38;5;241m>\u001b[39m \u001b[38;5;241m0\u001b[39m:\n\u001b[1;32m---> 14\u001b[0m     \u001b[43mboard\u001b[49m\u001b[43m[\u001b[49m\u001b[43mi\u001b[49m\u001b[43m \u001b[49m\u001b[38;5;241;43m+\u001b[39;49m\u001b[43m \u001b[49m\u001b[43mshift\u001b[49m\u001b[43m]\u001b[49m[j] \u001b[38;5;241m=\u001b[39m board[i][j]\n\u001b[0;32m     15\u001b[0m     board[i][j] \u001b[38;5;241m=\u001b[39m \u001b[38;5;241m0\u001b[39m\n\u001b[0;32m     16\u001b[0m \u001b[38;5;28;01mif\u001b[39;00m board[i \u001b[38;5;241m-\u001b[39m shift \u001b[38;5;241m-\u001b[39m \u001b[38;5;241m1\u001b[39m][j] \u001b[38;5;241m==\u001b[39m board[i \u001b[38;5;241m-\u001b[39m shift][j] \u001b[38;5;129;01mand\u001b[39;00m \u001b[38;5;129;01mnot\u001b[39;00m merged[i \u001b[38;5;241m-\u001b[39m shift][j] \\\n\u001b[0;32m     17\u001b[0m         \u001b[38;5;129;01mand\u001b[39;00m \u001b[38;5;129;01mnot\u001b[39;00m merged[i \u001b[38;5;241m-\u001b[39m shift \u001b[38;5;241m-\u001b[39m \u001b[38;5;241m1\u001b[39m][j]:\n",
      "\u001b[1;31mIndexError\u001b[0m: list index out of range"
     ]
    }
   ],
   "source": [
    "# main game loop\n",
    "\n",
    "screen = pg.display.set_mode([400, 500])\n",
    "pg.display.set_caption('2048')\n",
    "\n",
    "run = True\n",
    "while run:\n",
    "    timer.tick(fps)\n",
    "    screen.fill('gray')\n",
    "    draw_board()\n",
    "    draw_pieces(board_values)\n",
    "    if insert_new or init_count < 2:\n",
    "        board_values, game_over = new_pieces(board_values)\n",
    "        insert_new = False\n",
    "        init_count += 1\n",
    "    if direction != '':\n",
    "        board_values = take_turn(direction, board_values)\n",
    "        direction = ''\n",
    "        insert_new = True\n",
    "    if game_over:\n",
    "        draw_over()\n",
    "        if high_score > init_high:\n",
    "            file = open('high_score', 'w')\n",
    "            file.write(f'{high_score}')\n",
    "            file.close()\n",
    "            init_high = high_score\n",
    "\n",
    "    for event in pg.event.get():\n",
    "        if event.type == pg.QUIT:\n",
    "            run = False\n",
    "        if event.type == pg.KEYUP:\n",
    "            if event.key == pg.K_UP:\n",
    "                direction = 'UP'\n",
    "            elif event.key == pg.K_DOWN:\n",
    "                direction = 'DOWN'\n",
    "            elif event.key == pg.K_LEFT:\n",
    "                direction = 'LEFT'\n",
    "            elif event.key == pg.K_RIGHT:\n",
    "                direction = 'RIGHT'\n",
    "\n",
    "            if game_over:\n",
    "                if event.key == pg.K_RETURN:\n",
    "                    board_values = [[0 for _ in range(4)] for _ in range(4)]\n",
    "                    insert_new = True\n",
    "                    init_count = 0\n",
    "                    score = 0\n",
    "                    direction = ''\n",
    "                    game_over = False\n",
    "\n",
    "    if score > high_score:\n",
    "        high_score = score\n",
    "\n",
    "    pg.display.flip()\n",
    "pg.quit()"
   ]
  },
  {
   "cell_type": "code",
   "execution_count": null,
   "metadata": {},
   "outputs": [],
   "source": []
  },
  {
   "cell_type": "code",
   "execution_count": null,
   "metadata": {},
   "outputs": [],
   "source": []
  },
  {
   "cell_type": "code",
   "execution_count": null,
   "metadata": {},
   "outputs": [],
   "source": []
  }
 ],
 "metadata": {
  "kernelspec": {
   "display_name": "Python 3 (ipykernel)",
   "language": "python",
   "name": "python3"
  },
  "language_info": {
   "codemirror_mode": {
    "name": "ipython",
    "version": 3
   },
   "file_extension": ".py",
   "mimetype": "text/x-python",
   "name": "python",
   "nbconvert_exporter": "python",
   "pygments_lexer": "ipython3",
   "version": "3.11.5"
  }
 },
 "nbformat": 4,
 "nbformat_minor": 4
}
