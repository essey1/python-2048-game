{
 "cells": [
  {
   "cell_type": "markdown",
   "metadata": {},
   "source": [
    "# 2048\n",
    "The 2048 game is a popular puzzle game played on a 4x4 grid. The objective of the game is to slide numbered tiles on the grid, merging them to reach a tile with the value of 2048.<br><br>\n",
    "Here are the basic rules of the game\n",
    "- The game starts with two tiles, each having a value of either 2 or 4, randomly placed on the grid.\n",
    "- The player can slide the tiles in four directions: up, down, left, or right. When the player chooses a direction, all the tiles on the grid slide as far as possible in that direction until they hit the edge or another tile.\n",
    "- If two tiles with the same value collide while sliding, they merge into a single tile with the sum of their values. For example, if two tiles with the value of 2 collide, they merge into a single tile with the value of 4.\n",
    "- After each slide, a new tile with a value of 2 or 4 is randomly spawned on an empty spot on the grid.\n",
    "- The game continues until the player reaches a tile with a value of 2048 (or higher) or is unable to make any valid moves. If there are no more valid moves available and the grid is completely filled, the game ends."
   ]
  },
  {
   "cell_type": "markdown",
   "metadata": {},
   "source": [
    "## How to build 2048 using the Pygame module\n",
    "Building the game 2048 using the Pygame module involves several steps.<br>\n",
    "We have divided our code in to 9 steps.<br>\n",
    "N.B.  you have to run all the code cells from top to bottom in order for this to work."
   ]
  },
  {
   "cell_type": "markdown",
   "metadata": {},
   "source": [
    "### Step 1\n",
    "Install the pygame module using pip."
   ]
  },
  {
   "cell_type": "code",
   "execution_count": 31,
   "metadata": {},
   "outputs": [
    {
     "name": "stdout",
     "output_type": "stream",
     "text": [
      "Requirement already satisfied: pygame in c:\\users\\essey.laptop-3g3bsapg\\appdata\\local\\programs\\python\\python311\\lib\\site-packages (2.5.1)\n",
      "Note: you may need to restart the kernel to use updated packages.\n"
     ]
    }
   ],
   "source": [
    "# installs the package in the virtual environment where the current notebook kernel is running\n",
    "%pip install pygame "
   ]
  },
  {
   "cell_type": "markdown",
   "metadata": {},
   "source": [
    "### Step 2\n",
    "Import the Pygame and Random modules "
   ]
  },
  {
   "cell_type": "code",
   "execution_count": 32,
   "metadata": {},
   "outputs": [],
   "source": [
    "import pygame as pg\n",
    "import random as rnd"
   ]
  },
  {
   "cell_type": "markdown",
   "metadata": {},
   "source": [
    "### Step 3\n",
    "Initialize the Pygame library, game variables and set up the project."
   ]
  },
  {
   "cell_type": "code",
   "execution_count": 33,
   "metadata": {},
   "outputs": [],
   "source": [
    "# initializes the Pygame library\n",
    "pg.init()\n",
    "\n",
    "# initial set up\n",
    "timer = pg.time.Clock() # the timer and fps ensure that our game runs at a -\n",
    "fps = 60                # consistent speed and frame rate across different systems.\n",
    "font = pg.font.Font('freesansbold.ttf', 24)\n",
    "\n",
    "# 2048 color dictionary\n",
    "colors = {0: (205, 195, 180),\n",
    "          2: (238, 228, 218),\n",
    "          4: (237, 224, 200),\n",
    "          8: (242, 177, 121),\n",
    "          16: (245, 149, 99),\n",
    "          32: (246, 124, 95),\n",
    "          64: (246, 94, 59),\n",
    "          128: (237, 207, 114),\n",
    "          256: (237, 204, 97),\n",
    "          512: (237, 200, 80),\n",
    "          1024: (237, 197, 63),\n",
    "          2048: (237, 194, 46),\n",
    "          'light-text': (255, 255, 255),\n",
    "          'dark-text': (107, 97, 73),\n",
    "          'dark': (50, 50, 50),\n",
    "          'darker': (0, 0, 0),\n",
    "          'bg': (180, 170, 150)}\n",
    "\n",
    "# initializes game variables\n",
    "board_values = [[0 for _ in range(4)] for _ in range(4)] # creates a 4x4 two-dimensional list with zeros\n",
    "game_over = False\n",
    "insert_new = True\n",
    "insert_twice = 0 # to insert two values at the beginning of the game\n",
    "direction = ''\n",
    "score = 0\n",
    "file = open('high_score', 'r')\n",
    "init_high = int(file.readline())\n",
    "file.close()\n",
    "high_score = init_high\n",
    "\n"
   ]
  },
  {
   "cell_type": "markdown",
   "metadata": {},
   "source": [
    "### Step 4\n",
    "Draw the background, the score text and the high score text of the board."
   ]
  },
  {
   "cell_type": "code",
   "execution_count": 34,
   "metadata": {},
   "outputs": [],
   "source": [
    "# draws background for the board\n",
    "def draw_board():\n",
    "    pg.draw.rect(screen, colors['bg'], [0, 0, 400, 400], 0, 2)\n",
    "    score_text = font.render(f'Score: {score}', True, 'white')\n",
    "    high_score_text = font.render(f'High Score: {high_score}', True, 'white')\n",
    "    screen.blit(score_text, (10, 420)) # displays the score on the screen\n",
    "    screen.blit(high_score_text, (10, 455)) # displays the high score on the screen"
   ]
  },
  {
   "cell_type": "markdown",
   "metadata": {},
   "source": [
    "### Step 5\n",
    "Draw the tiles on the board."
   ]
  },
  {
   "cell_type": "code",
   "execution_count": 35,
   "metadata": {},
   "outputs": [],
   "source": [
    "# draws tiles for the game\n",
    "def draw_tiles(board):\n",
    "    for i in range(4): # these two for loops iterate through all the tiles\n",
    "        for j in range(4):\n",
    "            value = board[i][j]\n",
    "            if value > 8:\n",
    "                value_color = colors['light-text']\n",
    "            else:\n",
    "                value_color = colors['dark-text']\n",
    "            if value <= 2048:\n",
    "                color = colors[value]\n",
    "            else:\n",
    "                color = colors['darker']\n",
    "\n",
    "            # positions the tiles in the right place with the right spacing\n",
    "            pg.draw.rect(screen, color, [j * 97.75 + 10, i * 97.75 + 10, 87.75, 87.75], 0, 2) \n",
    "            \n",
    "            if value > 0:\n",
    "                value_len = len(str(value))\n",
    "                font = pg.font.Font('freesansbold.ttf', 48 - (5 * value_len)) # decreases the font size as the length increases.\n",
    "                value_text = font.render(str(value), True, value_color)\n",
    "                text_rect = value_text.get_rect(center=(j * 97.75 + 53, i * 97.75 + 53)) # positions the number at the center of the tile.\n",
    "                screen.blit(value_text, text_rect)"
   ]
  },
  {
   "cell_type": "markdown",
   "metadata": {},
   "source": [
    "### Step 6\n",
    "Shift and/or merge the cells if possible when the user turns the tiles using clicks the arrow keys.<br>\n",
    "Then return the board"
   ]
  },
  {
   "cell_type": "code",
   "execution_count": 36,
   "metadata": {},
   "outputs": [],
   "source": [
    "# shifts and/or merges the tiles based on the users turn direction\n",
    "def take_turn(direc, board):\n",
    "    global score\n",
    "    merged = [[False for _ in range(4)] for _ in range(4)] # set merged to false for all tiles initially\n",
    "    if direc == 'UP':\n",
    "        for i in range(4):\n",
    "            for j in range(4):\n",
    "                shift = 0\n",
    "                # checks all rows above i for zeros and adds 1 to the shift variable if it finds one\n",
    "                for q in range(i):\n",
    "                    if board[q][j] == 0:\n",
    "                        shift += 1\n",
    "                # shifts the tiles that have a zero above them upwards\n",
    "                if shift > 0:\n",
    "                    board[i - shift][j] = board[i][j]\n",
    "                    board[i][j] = 0\n",
    "                # merges the tiles upwards if their values are the same\n",
    "                if board[i - shift - 1][j] == board[i - shift][j] \\\n",
    "                        and not merged[i - shift][j] \\\n",
    "                        and not merged[i - shift - 1][j]:\n",
    "                    board[i - shift - 1][j] *= 2\n",
    "                    score += board[i - shift - 1][j]\n",
    "                    board[i - shift][j] = 0\n",
    "                    merged[i - shift - 1][j] = True\n",
    "\n",
    "    elif direc == 'DOWN':\n",
    "        for i in range(4):\n",
    "            for j in range(4):\n",
    "                shift = 0\n",
    "                # checks all rows below i for zeros and adds 1 to the shift variable if it finds one\n",
    "                for q in range(i):\n",
    "                    if board[3 - q][j] == 0:\n",
    "                        shift += 1\n",
    "                # shifts the tiles that have a zero below them downwards\n",
    "                if shift > 0:\n",
    "                    board[3 - i + shift][j] = board[3 - i][j]\n",
    "                    board[3 - i][j] = 0\n",
    "                if 4 - i + shift <= 3:\n",
    "                    # merges the tiles downwards if their values are the same\n",
    "                    if board[4 - i + shift][j] == board[3 - i + shift][j] \\\n",
    "                            and not merged[4 - i + shift][j] \\\n",
    "                            and not merged[3 - i + shift][j]:\n",
    "                        board[4 - i + shift][j] *= 2\n",
    "                        score += board[4 - i + shift][j]\n",
    "                        board[3 - i + shift][j] = 0\n",
    "                        merged[4 - i + shift][j] = True\n",
    "\n",
    "    elif direc == 'LEFT':\n",
    "        for i in range(4):\n",
    "            for j in range(4):\n",
    "                shift = 0\n",
    "                # checks all rows to the left of i for zeros and adds 1 to the shift variable if it finds one\n",
    "                for q in range(j):\n",
    "                    if board[i][q] == 0:\n",
    "                        shift += 1\n",
    "                # shifts the tiles that have a zero to thier left to the left\n",
    "                if shift > 0:\n",
    "                    board[i][j - shift] = board[i][j]\n",
    "                    board[i][j] = 0\n",
    "                # merges the tiles to the left if their values are the same\n",
    "                if board[i][j - shift] == board[i][j - shift - 1] \\\n",
    "                        and not merged[i][j - shift - 1] \\\n",
    "                        and not merged[i][j - shift]:\n",
    "                    board[i][j - shift - 1] *= 2\n",
    "                    score += board[i][j - shift - 1]\n",
    "                    board[i][j - shift] = 0\n",
    "                    merged[i][j - shift - 1] = True\n",
    "\n",
    "    elif direc == 'RIGHT':\n",
    "        for i in range(4):\n",
    "            for j in range(4):\n",
    "                shift = 0\n",
    "                # checks all rows to the right of i for zeros and adds 1 to the shift variable if it finds one\n",
    "                for q in range(j):\n",
    "                    if board[i][3 - q] == 0:\n",
    "                        shift += 1\n",
    "                # shifts the tiles that have a zero to thier right to the right\n",
    "                if shift > 0:\n",
    "                    board[i][3 - j + shift] = board[i][3 - j]\n",
    "                    board[i][3 - j] = 0\n",
    "                # merges the tiles to the right if their values are the same\n",
    "                if 4 - j + shift <= 3:\n",
    "                    if board[i][4 - j + shift] == board[i][3 - j + shift] \\\n",
    "                            and not merged[i][4 - j + shift] \\\n",
    "                            and not merged[i][3 - j + shift]:\n",
    "                        board[i][4 - j + shift] *= 2\n",
    "                        score += board[i][4 - j + shift]\n",
    "                        board[i][3 - j + shift] = 0\n",
    "                        merged[i][4 - j + shift] = True\n",
    "    return board\n"
   ]
  },
  {
   "cell_type": "markdown",
   "metadata": {},
   "source": [
    "### Step 7\n",
    "Check if there are zeros available, meaning the board is not full. And if so, insert a new tile of value 2 and sometimes 4 (1 in 10 chance) whenever the user makes a turn using the arrow keys.<br>\n",
    "Then return the board and whether the board is full or not."
   ]
  },
  {
   "cell_type": "code",
   "execution_count": 37,
   "metadata": {},
   "outputs": [],
   "source": [
    "# inserts in new tiles randomly when the user makes a turne\n",
    "def new_tiles(board):\n",
    "    count = 0\n",
    "    full = False\n",
    "    while any(0 in row for row in board) and count < 1:\n",
    "        row = rnd.randint(0, 3)\n",
    "        col = rnd.randint(0, 3)\n",
    "        if board[row][col] == 0:\n",
    "            count += 1\n",
    "            if rnd.randint(1, 10) == 10: # sometimes the game inserts a 4 instead of 2\n",
    "                board[row][col] = 4\n",
    "            else:\n",
    "                board[row][col] = 2\n",
    "    if count < 1:\n",
    "        full = True\n",
    "    return board, full"
   ]
  },
  {
   "cell_type": "markdown",
   "metadata": {},
   "source": [
    "### Step 8\n",
    "Draw the layout of the game over text."
   ]
  },
  {
   "cell_type": "code",
   "execution_count": 38,
   "metadata": {},
   "outputs": [],
   "source": [
    "# draws game over and restart instructions text\n",
    "def draw_over():\n",
    "    pg.draw.rect(screen, colors['dark'], [50, 50, 300, 100], 0, 2)\n",
    "    game_over_text1 = font.render('Game Over!', True, 'red')\n",
    "    game_over_text2 = font.render('Press Enter to Restart', True, 'white')\n",
    "    screen.blit(game_over_text1, (130, 65))\n",
    "    screen.blit(game_over_text2, (70, 105))"
   ]
  },
  {
   "cell_type": "markdown",
   "metadata": {},
   "source": [
    "### Step 9\n",
    "Set the dimensions and caption of the screen and run the game using a while loop."
   ]
  },
  {
   "cell_type": "code",
   "execution_count": 39,
   "metadata": {},
   "outputs": [],
   "source": [
    "# sets the dimensions and caption of the game\n",
    "screen = pg.display.set_mode([400, 500])\n",
    "pg.display.set_caption('2048')\n",
    "\n",
    "# main game loop\n",
    "run = True\n",
    "while run:\n",
    "    #calls the necessary functions to start the game\n",
    "    timer.tick(fps)\n",
    "    screen.fill(colors['dark'])\n",
    "    draw_board()\n",
    "    draw_tiles(board_values)\n",
    "    \n",
    "    # calls the new_tiles function twice to start the game with two non zero tiles on the board\n",
    "    if insert_new or insert_twice < 2:\n",
    "        board_values, game_over = new_tiles(board_values)\n",
    "        insert_new = False\n",
    "        insert_twice += 1\n",
    "        \n",
    "    # calls the function take_turn when the user clicks on an arrow key\n",
    "    if direction != '':\n",
    "        board_values = take_turn(direction, board_values)\n",
    "        direction = ''\n",
    "        insert_new = True\n",
    "        \n",
    "    # calls the function draw_over() when the board is full and no tiles can be merged and\n",
    "    # writes the new high score to the high score file\n",
    "    if game_over:\n",
    "        draw_over()\n",
    "        if high_score > init_high:\n",
    "            file = open('high_score', 'w')\n",
    "            file.write(f'{high_score}')\n",
    "            file.close()\n",
    "            init_high = high_score\n",
    "\n",
    "    # links the keyboard events with the value of the direction variable\n",
    "    for event in pg.event.get():\n",
    "        if event.type == pg.QUIT:\n",
    "            run = False\n",
    "        if event.type == pg.KEYUP:\n",
    "            if event.key == pg.K_UP and not game_over:\n",
    "                direction = 'UP'\n",
    "            elif event.key == pg.K_DOWN and not game_over:\n",
    "                direction = 'DOWN'\n",
    "            elif event.key == pg.K_LEFT and not game_over:\n",
    "                direction = 'LEFT'\n",
    "            elif event.key == pg.K_RIGHT and not game_over:\n",
    "                direction = 'RIGHT'\n",
    "\n",
    "            # resets the game when game over is true and the user clicks the enter key\n",
    "            if game_over:\n",
    "                if event.key == pg.K_RETURN:\n",
    "                    board_values = [[0 for _ in range(4)] for _ in range(4)]\n",
    "                    insert_new = True\n",
    "                    insert_twice = 0\n",
    "                    score = 0\n",
    "                    direction = ''\n",
    "                    game_over = False\n",
    "\n",
    "    # updates high score\n",
    "    if score > high_score:\n",
    "        high_score = score\n",
    "\n",
    "    pg.display.flip() # update the contents of the game after making changes\n",
    "pg.quit()"
   ]
  },
  {
   "cell_type": "markdown",
   "metadata": {},
   "source": [
    "# The End"
   ]
  }
 ],
 "metadata": {
  "kernelspec": {
   "display_name": "Python 3 (ipykernel)",
   "language": "python",
   "name": "python3"
  },
  "language_info": {
   "codemirror_mode": {
    "name": "ipython",
    "version": 3
   },
   "file_extension": ".py",
   "mimetype": "text/x-python",
   "name": "python",
   "nbconvert_exporter": "python",
   "pygments_lexer": "ipython3",
   "version": "3.11.4"
  }
 },
 "nbformat": 4,
 "nbformat_minor": 4
}
